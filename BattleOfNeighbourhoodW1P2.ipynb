{
 "cells": [
  {
   "cell_type": "code",
   "execution_count": 3,
   "metadata": {},
   "outputs": [
    {
     "name": "stdout",
     "output_type": "stream",
     "text": [
      "Collecting package metadata (current_repodata.json): ...working... done\n",
      "Solving environment: ...working... failed with initial frozen solve. Retrying with flexible solve.\n",
      "Collecting package metadata (repodata.json): ...working... done\n",
      "Solving environment: ...working... done\n",
      "\n",
      "## Package Plan ##\n",
      "\n",
      "  environment location: D:\\Users\\ashu.kumar\\AppData\\Local\\Continuum\\anaconda3\n",
      "\n",
      "  added / updated specs:\n",
      "    - folium=0.5.0\n",
      "\n",
      "\n",
      "The following packages will be downloaded:\n",
      "\n",
      "    package                    |            build\n",
      "    ---------------------------|-----------------\n",
      "    altair-4.0.0               |             py_0         606 KB  conda-forge\n",
      "    conda-4.8.0                |           py37_1         3.0 MB  conda-forge\n",
      "    folium-0.5.0               |             py_0          45 KB  conda-forge\n",
      "    ------------------------------------------------------------\n",
      "                                           Total:         3.7 MB\n",
      "\n",
      "The following NEW packages will be INSTALLED:\n",
      "\n",
      "  altair             conda-forge/noarch::altair-4.0.0-py_0\n",
      "\n",
      "The following packages will be UPDATED:\n",
      "\n",
      "  conda                                       4.7.12-py37_0 --> 4.8.0-py37_1\n",
      "\n",
      "The following packages will be DOWNGRADED:\n",
      "\n",
      "  folium                                        0.10.0-py_1 --> 0.5.0-py_0\n",
      "\n",
      "\n",
      "\n",
      "Downloading and Extracting Packages\n",
      "\n",
      "altair-4.0.0         | 606 KB    |            |   0% \n",
      "altair-4.0.0         | 606 KB    | 2          |   3% \n",
      "altair-4.0.0         | 606 KB    | ########## | 100% \n",
      "\n",
      "folium-0.5.0         | 45 KB     |            |   0% \n",
      "folium-0.5.0         | 45 KB     | ###5       |  35% \n",
      "folium-0.5.0         | 45 KB     | ########## | 100% \n",
      "\n",
      "conda-4.8.0          | 3.0 MB    |            |   0% \n",
      "conda-4.8.0          | 3.0 MB    | ######5    |  66% \n",
      "conda-4.8.0          | 3.0 MB    | ########## | 100% \n",
      "Preparing transaction: ...working... done\n",
      "Verifying transaction: ...working... done\n",
      "Executing transaction: ...working... done\n",
      "\n",
      "Note: you may need to restart the kernel to use updated packages.\n"
     ]
    }
   ],
   "source": [
    "\n",
    "conda install -c conda-forge folium=0.5.0 "
   ]
  },
  {
   "cell_type": "code",
   "execution_count": 24,
   "metadata": {},
   "outputs": [
    {
     "name": "stdout",
     "output_type": "stream",
     "text": [
      "Libraries imported.\n"
     ]
    }
   ],
   "source": [
    "import numpy as np # library to handle data in a vectorized manner\n",
    "import time\n",
    "import pandas as pd # library for data analsysis\n",
    "pd.set_option('display.max_columns', None)\n",
    "pd.set_option('display.max_rows', None)\n",
    "\n",
    "import json # library to handle JSON files\n",
    "import requests # library to handle requests\n",
    "from pandas import show_versions\n",
    "from pandas.io.json import json_normalize # tranform JSON file into a pandas dataframe\n",
    "\n",
    "from geopy.geocoders import Nominatim # convert an address into latitude and longitude values\n",
    "import folium # map rendering library\n",
    "\n",
    "print('Libraries imported.')"
   ]
  },
  {
   "cell_type": "markdown",
   "metadata": {},
   "source": [
    "#### Coursera Capstone - REPORT CONTENT\n",
    "\n",
    "1. Introduction Section : ⁃ Discussion of the business problem and the interested audience in this project.\n",
    "2. Data Section: Description of the data that will be used to solve the problem and the sources.\n",
    "3. Methodology section ⁃ Discussion and description of exploratory data analysis carried out, any inferential statistical \n",
    "4. testing performed, and if any machine learnings were used establishing the strategy and purposes.\n",
    "5. Results section ⁃ Discussion of the results.\n",
    "6. Discussion section ⁃ Elaboration and discussion on any observations noted and any recommendations suggested based on the results.\n",
    "7. Conclusion section ⁃ Report Conclusion"
   ]
  },
  {
   "cell_type": "markdown",
   "metadata": {},
   "source": [
    "# 1. Introduction Section :\n",
    "\n",
    "## Discussion of the business problem and the audience who would be interested in this project.\n",
    "\n",
    "### Description of the Problem and Background:\n",
    "### Scenario:\n",
    "\n",
    "I am a data scientist from India currently working in XYZ Company in Singaore. I currently live within walking distance to bus stop and I enjoy many ammenities and venues in the area, such as various restaurants, cafes, food shops and entertainment. I have been offered a great opportunity to work for a leader firm in ABC Company. I am very excited and I want to use this opportunity to practice my learnings in Coursera in order to answer relevant questions arisen. For that I have to move some other place. For example I have to move from Signapore to New York\n",
    "The key question is : How can I find a convenient and enjoyable place similar to mine now in Singapore? \n",
    "In order to make a comparison and evaluation of the rental options in Manhattan NY, I must set some basis, therefore the apartment in Manhattan must meet the following demands:\n",
    "\n",
    "1. apartment must be 2 or 3 bedrooms\n",
    "2. desired location is near a metro station in the Manhattan area and within 1.0 mile (1.6 km) radius\n",
    "3. price of rent not exceed $7,000 per month\n",
    "4. top ammenities in the selected neighborhood shall be similar to current residence\n",
    "5. desirable to have venues such as coffee shops, restaurants Asian Thai, wine stores, gym and food shops\n",
    "6. as a reference, I have included a map of venues near current residence in Singapore. \n",
    "\n",
    "### Business Problem:\n",
    "The challenge is to find a suitable apartment for rent in Manhattan NY that complies with the demands on location, price and venues."
   ]
  },
  {
   "cell_type": "markdown",
   "metadata": {},
   "source": [
    "# 2. Data Section:¶\n",
    "\n",
    "## Description of the data and its sources that will be used to solve the problem\n",
    "\n",
    "### Description of the Data:¶\n",
    "\n",
    "The following data is required to answer the issues of the problem:\n",
    "\n",
    "1. List of Boroughs and neighborhoods of Manhattan with their geodata (latitud and longitud)\n",
    "2. List of Subway metro stations in Manhattan with their address location\n",
    "3. List of apartments for rent in Manhattan area with their addresses and price\n",
    "4. Preferably, a list of apartment for rent with additional information, such as price, address, area, # of beds, etc\n",
    "5. Venues for each Manhattan neighborhood ( than can be clustered)\n",
    "6. Venues for subway metro stations, as needed\n",
    "\n",
    "### How the data will be used to solve the problem\n",
    "\n",
    "The data will be used as follows:\n",
    "\n",
    "1. Use Foursquare and geopy data to map top 10 venues for all Manhattan neighborhoods and clustered in groups ( as per Course LAB)\n",
    "2. Use foursquare and geopy data to map the location of subway metro stations , separately and on top of the above clustered map in order to be able to identify the venues and ammenities near each metro station, or explore each subway location separately\n",
    "3. Use Foursquare and geopy data to map the location of rental places, in some form, linked to the subway locations.\n",
    "\n",
    "4. create a map that depicts, for instance, the average rental price per square ft, around a radious of 1.0 mile (1.6 km) around each subway station - or a similar metrics. I will be able to quickly point to the popups to know the relative price per subway area.\n",
    "5. Addresses from rental locations will be converted to geodata( lat, long) using Geopy-distance and Nominatim.\n",
    "6. Data will be searched in open data sources if available, from real estate sites if open to reading, libraries or other government agencies such as Metro New York MTA, etc.\n",
    "\n",
    "The procesing of these DATA will allow to answer the key questions to make a decision:\n",
    "\n",
    "1. what is the cost of rent (per square ft) around a mile radius from each subway metro station?\n",
    "2. what is the area of Manhattan with best rental pricing that meets criteria established?\n",
    "3. What is the distance from work place ( Park Ave and 53 rd St) and the tentative future home?\n",
    "4. What are the venues of the two best places to live? How the prices compare?\n",
    "5. How venues distribute among Manhattan neighborhoods and around metro stations?\n",
    "6. Are there tradeoffs between size and price and location?\n",
    "7. Any other interesting statistical data findings of the real estate and overall data."
   ]
  },
  {
   "cell_type": "code",
   "execution_count": 25,
   "metadata": {},
   "outputs": [
    {
     "name": "stderr",
     "output_type": "stream",
     "text": [
      "D:\\Users\\ashu.kumar\\AppData\\Local\\Continuum\\anaconda3\\lib\\site-packages\\ipykernel_launcher.py:4: DeprecationWarning: Using Nominatim with the default \"geopy/1.20.0\" `user_agent` is strongly discouraged, as it violates Nominatim's ToS https://operations.osmfoundation.org/policies/nominatim/ and may possibly cause 403 and 429 HTTP errors. Please specify a custom `user_agent` with `Nominatim(user_agent=\"my-application\")` or by overriding the default `user_agent`: `geopy.geocoders.options.default_user_agent = \"my-application\"`. In geopy 2.0 this will become an exception.\n",
      "  after removing the cwd from sys.path.\n"
     ]
    },
    {
     "name": "stdout",
     "output_type": "stream",
     "text": [
      "The geograpical coordinate of Singapore home are 1.2787941, 103.848846.\n"
     ]
    }
   ],
   "source": [
    "# Shenton Way, District 01, Singapore\n",
    "address = 'Mccallum Street, Singapore'\n",
    "\n",
    "geolocator = Nominatim()\n",
    "location = geolocator.geocode(address)\n",
    "latitude = location.latitude\n",
    "longitude = location.longitude\n",
    "print('The geograpical coordinate of Singapore home are {}, {}.'.format(latitude, longitude))\n"
   ]
  }
 ],
 "metadata": {
  "kernelspec": {
   "display_name": "Python 3",
   "language": "python",
   "name": "python3"
  },
  "language_info": {
   "codemirror_mode": {
    "name": "ipython",
    "version": 3
   },
   "file_extension": ".py",
   "mimetype": "text/x-python",
   "name": "python",
   "nbconvert_exporter": "python",
   "pygments_lexer": "ipython3",
   "version": "3.7.4"
  }
 },
 "nbformat": 4,
 "nbformat_minor": 2
}
